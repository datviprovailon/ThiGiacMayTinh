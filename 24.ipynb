{
 "cells": [
  {
   "cell_type": "code",
   "execution_count": 15,
   "id": "112aa742-8410-4466-93fb-27e3401c3746",
   "metadata": {},
   "outputs": [],
   "source": [
    "import cv2\n",
    "import time"
   ]
  },
  {
   "cell_type": "code",
   "execution_count": 17,
   "id": "3e965b62-536a-42f3-8e02-69bf88d9442c",
   "metadata": {},
   "outputs": [],
   "source": [
    "# Doc camera\n",
    "my_camera = cv2.VideoCapture(0)"
   ]
  },
  {
   "cell_type": "code",
   "execution_count": 18,
   "id": "978d7ad1-a628-4325-acdd-60069ab63787",
   "metadata": {},
   "outputs": [],
   "source": [
    "# Tao cua so de hien thi\n",
    "cv2.namedWindow('Video Player', cv2.WINDOW_NORMAL)\n",
    "# \n",
    "interval = 20\n",
    "count = 0"
   ]
  },
  {
   "cell_type": "code",
   "execution_count": 21,
   "id": "50d42c71-e32c-498d-846c-2bf50b6862ab",
   "metadata": {},
   "outputs": [],
   "source": [
    "# Ghi text tren hinh anh\n",
    "font = cv2.FONT_HERSHEY_SIMPLEX\n",
    "font_color = (255, 255, 255)\n",
    "font_scale = 2\n",
    "font_thicknes = 2"
   ]
  },
  {
   "cell_type": "code",
   "execution_count": 27,
   "id": "c9a2d143-77b3-4a59-b597-49c938994757",
   "metadata": {},
   "outputs": [],
   "source": [
    "# Hien thi tung khung hinh\n",
    "while True:\n",
    "    # Thoi gian truoc khi doc\n",
    "    start_time = time.time()\n",
    "    # Doc 1 frame\n",
    "    ret, frame = my_camera.read()\n",
    "    # Thoat khi khong the doc frame\n",
    "    if not ret:\n",
    "        break\n",
    "    # Tăng count + 1\n",
    "    count = count + 1\n",
    "    # Định kỳ lưu ảnh xuống\n",
    "    if(count%interval==0):\n",
    "        cv2.imwrite(f'D:/MonHoc/ThiGiacMayTinh/File/Image/img_face/162000947_TranThanhDat_{count}.jpg', frame)\n",
    "    # Thoi gian truoc khi doc\n",
    "    end_time = time.time()    \n",
    "    # Tinh FPS:\n",
    "    fps = 1/(end_time-start_time)\n",
    "    # Thay doi kich thuoc frame\n",
    "    frame_resized = cv2.resize(frame, (450, 300))\n",
    "    # Ghi so luong fps\n",
    "    cv2.putText(frame_resized, f'FPS: {fps:.2f}', (0, 50), font, font_scale, font_color , font_thicknes)\n",
    "    # Hien thi\n",
    "    cv2.imshow('Video Player', frame_resized)\n",
    "    if(cv2.waitKey(10)==ord('q')):\n",
    "        break\n",
    "\n",
    "# Huy bo player\n",
    "my_camera.release()\n",
    "cv2.destroyAllWindows()"
   ]
  },
  {
   "cell_type": "code",
   "execution_count": null,
   "id": "35296a5e-f03d-4ab2-8f4e-7835d53149de",
   "metadata": {},
   "outputs": [],
   "source": []
  }
 ],
 "metadata": {
  "kernelspec": {
   "display_name": "Python 3 (ipykernel)",
   "language": "python",
   "name": "python3"
  },
  "language_info": {
   "codemirror_mode": {
    "name": "ipython",
    "version": 3
   },
   "file_extension": ".py",
   "mimetype": "text/x-python",
   "name": "python",
   "nbconvert_exporter": "python",
   "pygments_lexer": "ipython3",
   "version": "3.12.4"
  }
 },
 "nbformat": 4,
 "nbformat_minor": 5
}
