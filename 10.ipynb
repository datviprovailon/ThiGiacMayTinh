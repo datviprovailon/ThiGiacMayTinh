{
 "cells": [
  {
   "cell_type": "code",
   "execution_count": 3,
   "id": "c7c720db-117c-4ed0-8b06-7bcd653a3f43",
   "metadata": {},
   "outputs": [],
   "source": [
    "from PIL import Image\n",
    "import matplotlib.pyplot as plt\n",
    "import numpy as np"
   ]
  },
  {
   "cell_type": "code",
   "execution_count": 13,
   "id": "6dc67812-88d2-4694-be4c-9b48fe1135b8",
   "metadata": {},
   "outputs": [
    {
     "name": "stdout",
     "output_type": "stream",
     "text": [
      "[(41.82258064516128, 285.2903225806451), (151.24193548387098, 273.93548387096774), (45.95161290322582, 388.51612903225805), (167.75806451612905, 374.0645161290323)]\n"
     ]
    }
   ],
   "source": [
    "# Tạo đường dẫn lưu ảnh\n",
    "directory = 'D:/MonHoc/ThiGiacMayTinh/File/Image'\n",
    "\n",
    "# Đọc ảnh\n",
    "my_path = 'D:/MonHoc/ThiGiacMayTinh/File/Image/p06.png'\n",
    "img = Image.open(my_path)\n",
    "\n",
    "# Chuyển đổi backend\n",
    "plt.switch_backend('tkagg')\n",
    "\n",
    "# Hiển thị ảnh\n",
    "plt.imshow(img)\n",
    "plt.title('Click on the image to select points')\n",
    "\n",
    "# Sử dụng hàm ginput để chọn điểm trên ảnh\n",
    "points = plt.ginput(5)\n",
    "\n",
    "print(points)\n",
    "\n",
    "# Hiển thị\n",
    "plt.show()"
   ]
  },
  {
   "cell_type": "code",
   "execution_count": 16,
   "id": "1d2f5478-16d7-4d40-bc41-8b6e8da41daa",
   "metadata": {},
   "outputs": [],
   "source": [
    "# Vẽ lại các điểm đã chọn bằng dấu * màu đỏ\n",
    "plt.close()\n",
    "\n",
    "# Vẽ lại\n",
    "plt.imshow(img)\n",
    "for point in points:\n",
    "    x, y = point\n",
    "    plt.plot(x,y, 'r*')\n",
    "\n",
    "plt.show()"
   ]
  },
  {
   "cell_type": "code",
   "execution_count": null,
   "id": "08dbbd7c-c51c-42a2-ad86-b69714e1fa47",
   "metadata": {},
   "outputs": [],
   "source": []
  }
 ],
 "metadata": {
  "kernelspec": {
   "display_name": "Python 3 (ipykernel)",
   "language": "python",
   "name": "python3"
  },
  "language_info": {
   "codemirror_mode": {
    "name": "ipython",
    "version": 3
   },
   "file_extension": ".py",
   "mimetype": "text/x-python",
   "name": "python",
   "nbconvert_exporter": "python",
   "pygments_lexer": "ipython3",
   "version": "3.12.4"
  }
 },
 "nbformat": 4,
 "nbformat_minor": 5
}
