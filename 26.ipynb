{
 "cells": [
  {
   "cell_type": "code",
   "execution_count": 15,
   "id": "a60c13ba-3a52-400c-9a7a-d9eef87ba347",
   "metadata": {},
   "outputs": [],
   "source": [
    "import cv2\n",
    "import time"
   ]
  },
  {
   "cell_type": "code",
   "execution_count": 17,
   "id": "312dc4c2-eeca-4403-893c-1e4ecb6b87bc",
   "metadata": {},
   "outputs": [],
   "source": [
    "# Hien thi va dong\n",
    "def display(title, img):\n",
    "    cv2.imshow(title, img)\n",
    "    # Chờ một khoảng thời gian\n",
    "    cv2.waitKey(0)\n",
    "    # Đóng window\n",
    "    cv2.destroyWindow(title)"
   ]
  },
  {
   "cell_type": "code",
   "execution_count": 26,
   "id": "e0d3632a-cbbe-42cf-abe1-21486e04c55a",
   "metadata": {},
   "outputs": [],
   "source": [
    "def detect(img):\n",
    "    # Khởi tạo Haar Cascade Classifier cho nhân diện khuôn mặt\n",
    "    face_cascade = cv2.CascadeClassifier('D:/MonHoc/ThiGiacMayTinh/File/Data/haarcascade_frontalface_default.xml')\n",
    "    eye_cascade = cv2.CascadeClassifier('D:/MonHoc/ThiGiacMayTinh/File/Data/haarcascade_eye_tree_eyeglasses.xml')\n",
    "    # Chuyển sang ảnh xám\n",
    "    gray = cv2.cvtColor(img, cv2.COLOR_BGR2GRAY)\n",
    "    # Nhận diện khuôn mặt\n",
    "    faces = face_cascade.detectMultiScale(gray, scaleFactor=1.1, minNeighbors=5, minSize=(30,30))\n",
    "    # Nhận diện mắt\n",
    "    eyes = eye_cascade.detectMultiScale(gray, scaleFactor=1.1, minNeighbors=1, minSize=(5,5))\n",
    "    # Vẽ hộp chứa khuôn mặt\n",
    "    for (x, y, w, h) in faces:\n",
    "        cv2.rectangle(img, (x, y), (x+w, y+h), (0, 255,0), 2)\n",
    "    # Vẽ hộp chứa khuôn mặt\n",
    "    for (x, y, w, h) in eyes:\n",
    "        cv2.rectangle(img, (x, y), (x+w, y+h), (255, 0,0), 2)\n",
    "    return img"
   ]
  },
  {
   "cell_type": "code",
   "execution_count": 27,
   "id": "0639c513-f67a-497a-a745-569fc5d4d5e5",
   "metadata": {},
   "outputs": [],
   "source": [
    "# Doc camera\n",
    "my_camera = cv2.VideoCapture(0)\n",
    "# Tao cua so de hien thi\n",
    "cv2.namedWindow('Video Player', cv2.WINDOW_NORMAL)\n",
    "# Ghi text tren hinh anh\n",
    "font = cv2.FONT_HERSHEY_SIMPLEX\n",
    "font_color = (255, 255, 255)\n",
    "font_scale = 2\n",
    "font_thicknes = 2\n",
    "# Hien thi tung khung hinh\n",
    "while True:\n",
    "    # Thoi gian truoc khi doc\n",
    "    start_time = time.time()\n",
    "    # Doc 1 frame\n",
    "    ret, frame = my_camera.read()\n",
    "    # Thoat khi khong the doc frame\n",
    "    if not ret:\n",
    "        break\n",
    "    # Thoi gian truoc khi doc\n",
    "    end_time = time.time()    \n",
    "    # Tinh FPS:\n",
    "    fps = 1/(end_time-start_time)\n",
    "    # Thay doi kich thuoc frame\n",
    "    frame_resized = cv2.resize(frame, (450, 300))\n",
    "    # Detect\n",
    "    frame_resized = detect(frame_resized)\n",
    "    # Ghi so luong fps\n",
    "    cv2.putText(frame_resized, f'FPS: {fps:.2f}', (0, 50), font, font_scale, font_color , font_thicknes)\n",
    "    # Hien thi\n",
    "    cv2.imshow('Video Player', frame_resized)\n",
    "    if(cv2.waitKey(10)==ord('q')):\n",
    "        break\n",
    "\n",
    "# Huy bo player\n",
    "my_camera.release()\n",
    "cv2.destroyAllWindows()"
   ]
  },
  {
   "cell_type": "code",
   "execution_count": null,
   "id": "72cbf72a-06e8-4386-ad48-d38c0dbdd8c8",
   "metadata": {},
   "outputs": [],
   "source": []
  }
 ],
 "metadata": {
  "kernelspec": {
   "display_name": "Python 3 (ipykernel)",
   "language": "python",
   "name": "python3"
  },
  "language_info": {
   "codemirror_mode": {
    "name": "ipython",
    "version": 3
   },
   "file_extension": ".py",
   "mimetype": "text/x-python",
   "name": "python",
   "nbconvert_exporter": "python",
   "pygments_lexer": "ipython3",
   "version": "3.12.4"
  }
 },
 "nbformat": 4,
 "nbformat_minor": 5
}
