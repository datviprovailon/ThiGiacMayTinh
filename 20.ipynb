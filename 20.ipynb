{
 "cells": [
  {
   "cell_type": "code",
   "execution_count": 1,
   "id": "21f20d5f-1e53-4f26-9bc9-2e7b069bd466",
   "metadata": {},
   "outputs": [],
   "source": [
    "import cv2\n",
    "import numpy as np"
   ]
  },
  {
   "cell_type": "code",
   "execution_count": 3,
   "id": "e695115e-aeb2-4290-94a5-28542311e3f6",
   "metadata": {},
   "outputs": [],
   "source": [
    "def display(title, img):\n",
    "    cv2.imshow(title, img)\n",
    "    # Chờ một khoảng thời gian\n",
    "    cv2.waitKey(0)\n",
    "    # Đóng window\n",
    "    cv2.destroyWindow(title)"
   ]
  },
  {
   "cell_type": "code",
   "execution_count": 5,
   "id": "1ab03c38-41fb-4537-be2c-188d454e721c",
   "metadata": {},
   "outputs": [],
   "source": [
    "# Tao mot hinh anh\n",
    "img =  np.zeros((500, 1000, 3), dtype=np.uint8)\n",
    "display('Image', img)"
   ]
  },
  {
   "cell_type": "code",
   "execution_count": 6,
   "id": "1c4d2e9b-addb-4c60-8ea2-abf2281a10f2",
   "metadata": {},
   "outputs": [],
   "source": [
    "# Ghi text len hihn anh\n",
    "content = 'datvipro'\n",
    "font = cv2.FONT_HERSHEY_SIMPLEX\n",
    "cv2.putText(img, content, (10, 490), font, 0.6, (255, 255, 255), 2)\n",
    "display('Image', img)"
   ]
  },
  {
   "cell_type": "code",
   "execution_count": 13,
   "id": "75342179-815d-4405-89c6-f23951958db7",
   "metadata": {},
   "outputs": [],
   "source": [
    "# Ve duong thang\n",
    "cv2.line(img, (0, 350) , (300, 50), (0,0,255), 2)\n",
    "display('Image', img)\n",
    "cv2.line(img, (350, 50) , (50, 300), (0,0,255), 2)\n",
    "display('Image', img)"
   ]
  },
  {
   "cell_type": "code",
   "execution_count": 15,
   "id": "c57e83a4-de06-4a28-9905-606eb372adca",
   "metadata": {},
   "outputs": [],
   "source": [
    "# Ve hinh tron\n",
    "cv2.circle(img, (400,400), 50, (0, 255, 0), -1)\n",
    "display('Image', img)"
   ]
  },
  {
   "cell_type": "code",
   "execution_count": null,
   "id": "45903523-4592-4d1f-8014-7c7a3ec35313",
   "metadata": {},
   "outputs": [],
   "source": [
    "# Ve hinh chu nhat\n",
    "cv2.rectangle(img, (200,200),(300,300), (255, 0, 0), -1)\n",
    "display('Image', img)\n"
   ]
  },
  {
   "cell_type": "code",
   "execution_count": null,
   "id": "bfeff510-eef5-42b8-ac0f-5679cac32e36",
   "metadata": {},
   "outputs": [],
   "source": []
  }
 ],
 "metadata": {
  "kernelspec": {
   "display_name": "Python 3 (ipykernel)",
   "language": "python",
   "name": "python3"
  },
  "language_info": {
   "codemirror_mode": {
    "name": "ipython",
    "version": 3
   },
   "file_extension": ".py",
   "mimetype": "text/x-python",
   "name": "python",
   "nbconvert_exporter": "python",
   "pygments_lexer": "ipython3",
   "version": "3.12.4"
  }
 },
 "nbformat": 4,
 "nbformat_minor": 5
}
