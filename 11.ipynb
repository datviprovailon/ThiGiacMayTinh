{
 "cells": [
  {
   "cell_type": "code",
   "execution_count": 4,
   "id": "8431af1d-2fa3-4aea-945b-faa8e170bbc1",
   "metadata": {},
   "outputs": [],
   "source": [
    "import numpy as np"
   ]
  },
  {
   "cell_type": "code",
   "execution_count": 18,
   "id": "40a53f45-fa9f-47c5-9c6b-602be555ff23",
   "metadata": {},
   "outputs": [
    {
     "name": "stdout",
     "output_type": "stream",
     "text": [
      "[ 51 100  49  12  50]\n"
     ]
    }
   ],
   "source": [
    "#Tạo và in mảng\n",
    "arr = np.array([51, 100, 49, 12, 50])\n",
    "print(arr)"
   ]
  },
  {
   "cell_type": "code",
   "execution_count": 24,
   "id": "b1b3efee-59f9-4c3d-8375-7538f9b7bc4d",
   "metadata": {},
   "outputs": [
    {
     "name": "stdout",
     "output_type": "stream",
     "text": [
      "49\n"
     ]
    }
   ],
   "source": [
    "#In ra một phần tử\n",
    "elm = arr[2]\n",
    "print(elm)"
   ]
  },
  {
   "cell_type": "code",
   "execution_count": 32,
   "id": "0c77c34e-3f72-4b23-a5cf-a772443942df",
   "metadata": {},
   "outputs": [
    {
     "name": "stdout",
     "output_type": "stream",
     "text": [
      "[[2 5]\n",
      " [1 6]\n",
      " [9 4]\n",
      " [3 7]]\n"
     ]
    }
   ],
   "source": [
    "#Tạo mảng 2 chiều\n",
    "arr2c = np.array([[2, 5],[1, 6],[9, 4],[3, 7]])\n",
    "print(arr2c)"
   ]
  },
  {
   "cell_type": "code",
   "execution_count": 40,
   "id": "c987281f-0be6-4c0d-8313-d868214dc4bc",
   "metadata": {},
   "outputs": [
    {
     "name": "stdout",
     "output_type": "stream",
     "text": [
      "[9 4]\n"
     ]
    }
   ],
   "source": [
    "#In ra một phần tử\n",
    "elm = arr2c[2]\n",
    "print(elm)"
   ]
  },
  {
   "cell_type": "code",
   "execution_count": null,
   "id": "27c9f0d9-da3d-455c-9978-5a5282f81a30",
   "metadata": {},
   "outputs": [],
   "source": [
    "#Cách tạo mảng nhanh"
   ]
  },
  {
   "cell_type": "code",
   "execution_count": 48,
   "id": "724b3e9c-954c-4fa5-992d-6b529d60eda8",
   "metadata": {},
   "outputs": [
    {
     "name": "stdout",
     "output_type": "stream",
     "text": [
      "[0. 0. 0. 0. 0. 0. 0. 0. 0. 0.]\n"
     ]
    }
   ],
   "source": [
    "#Tạo mảng full 0\n",
    "arr = np.zeros(10)\n",
    "print(arr)"
   ]
  },
  {
   "cell_type": "code",
   "execution_count": 50,
   "id": "f15251bd-98a0-4d4c-8eca-0bf22fe36a5b",
   "metadata": {},
   "outputs": [
    {
     "name": "stdout",
     "output_type": "stream",
     "text": [
      "[1. 1. 1. 1. 1.]\n"
     ]
    }
   ],
   "source": [
    "#Tạo mảng full 1\n",
    "arr = np.ones(5)\n",
    "print(arr)"
   ]
  },
  {
   "cell_type": "code",
   "execution_count": null,
   "id": "ec3643d3-1742-4a09-a257-c9b7423bf7ce",
   "metadata": {},
   "outputs": [],
   "source": [
    "#Tạo mảng\n",
    "arr = "
   ]
  }
 ],
 "metadata": {
  "kernelspec": {
   "display_name": "Python 3 (ipykernel)",
   "language": "python",
   "name": "python3"
  },
  "language_info": {
   "codemirror_mode": {
    "name": "ipython",
    "version": 3
   },
   "file_extension": ".py",
   "mimetype": "text/x-python",
   "name": "python",
   "nbconvert_exporter": "python",
   "pygments_lexer": "ipython3",
   "version": "3.12.4"
  }
 },
 "nbformat": 4,
 "nbformat_minor": 5
}
