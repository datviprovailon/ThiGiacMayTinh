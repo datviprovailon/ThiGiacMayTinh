{
 "cells": [
  {
   "cell_type": "code",
   "execution_count": 6,
   "id": "88eb446d-cf66-4bb1-9461-a10c9dcf1b54",
   "metadata": {},
   "outputs": [],
   "source": [
    "# Cài đặt Open CV\n",
    "#!pip install opencv-python"
   ]
  },
  {
   "cell_type": "code",
   "execution_count": 1,
   "id": "2cfa298f-d9b5-43f7-add4-0d91ea02caa1",
   "metadata": {},
   "outputs": [],
   "source": [
    "# Import Thu vien\n",
    "import cv2"
   ]
  },
  {
   "cell_type": "code",
   "execution_count": 2,
   "id": "be5e3682-c3c3-43df-89a8-f4a42d9dca8a",
   "metadata": {},
   "outputs": [],
   "source": [
    "def display(title, img):\n",
    "    cv2.imshow(title, img)\n",
    "    # Chờ một khoảng thời gian\n",
    "    cv2.waitKey(0)\n",
    "    # Đóng window\n",
    "    cv2.destroyWindow(title)"
   ]
  },
  {
   "cell_type": "code",
   "execution_count": 5,
   "id": "b3b1c7cf-6cf2-419f-99ad-abe946fe0c90",
   "metadata": {},
   "outputs": [
    {
     "name": "stdout",
     "output_type": "stream",
     "text": [
      "[[[203 217 219]\n",
      "  [227 236 249]\n",
      "  [208 213 200]\n",
      "  ...\n",
      "  [146 154 177]\n",
      "  [155 162 181]\n",
      "  [153 160 179]]\n",
      "\n",
      " [[193 207 207]\n",
      "  [247 252 255]\n",
      "  [225 228 225]\n",
      "  ...\n",
      "  [139 147 168]\n",
      "  [148 155 173]\n",
      "  [149 154 173]]\n",
      "\n",
      " [[ 80 111 130]\n",
      "  [239 251 255]\n",
      "  [243 242 238]\n",
      "  ...\n",
      "  [143 146 164]\n",
      "  [152 155 172]\n",
      "  [149 151 171]]\n",
      "\n",
      " ...\n",
      "\n",
      " [[172 162 152]\n",
      "  [176 166 153]\n",
      "  [177 164 150]\n",
      "  ...\n",
      "  [ 56  72  63]\n",
      "  [ 67  91  69]\n",
      "  [ 75 113  76]]\n",
      "\n",
      " [[169 158 145]\n",
      "  [169 159 146]\n",
      "  [170 161 150]\n",
      "  ...\n",
      "  [ 56  72  60]\n",
      "  [ 65  87  68]\n",
      "  [ 70 107  74]]\n",
      "\n",
      " [[171 159 148]\n",
      "  [174 162 150]\n",
      "  [175 163 151]\n",
      "  ...\n",
      "  [ 57  73  61]\n",
      "  [ 63  86  66]\n",
      "  [ 66 103  72]]]\n"
     ]
    }
   ],
   "source": [
    "# Doc hinh anh\n",
    "path = 'D:/MonHoc/ThiGiacMayTinh/File/Image/p06.png'\n",
    "img = cv2.imread(path)\n",
    "print(img)"
   ]
  },
  {
   "cell_type": "code",
   "execution_count": 7,
   "id": "16be2e7e-d455-4ebc-bb85-5a658327f471",
   "metadata": {},
   "outputs": [
    {
     "name": "stdout",
     "output_type": "stream",
     "text": [
      "(425, 640, 3)\n",
      "425\n",
      "640\n",
      "3\n"
     ]
    }
   ],
   "source": [
    "# Laay kich thuoc\n",
    "print(img.shape)\n",
    "x, y, z = img.shape\n",
    "print(x)\n",
    "print(y)\n",
    "print(z)"
   ]
  },
  {
   "cell_type": "code",
   "execution_count": 9,
   "id": "27d0cef1-912c-4a49-a996-56c621a8da71",
   "metadata": {},
   "outputs": [],
   "source": [
    "# Hien thi anh\n",
    "cv2.imshow('Window', img)\n",
    "# Cho mot khoan thoi gian\n",
    "cv2.waitKey(10000)\n",
    "# Dong window\n",
    "cv2.destroyWindow('Window')"
   ]
  },
  {
   "cell_type": "code",
   "execution_count": 10,
   "id": "e8caa77c-e466-4385-a01e-304f25b91ce8",
   "metadata": {},
   "outputs": [],
   "source": [
    "# Tach mau\n",
    "b, g, r = cv2.split(img)\n",
    "cv2.imshow('Window', img)\n",
    "cv2.imshow('Red', r)\n",
    "cv2.imshow('Green', g)\n",
    "cv2.imshow('Blue', b)\n",
    "# Cho 1 khoang thoi gian\n",
    "cv2.waitKey(0)\n",
    "# Đóng window\n",
    "cv2.destroyAllWindows()"
   ]
  },
  {
   "cell_type": "code",
   "execution_count": 11,
   "id": "907188cc-06aa-411a-b139-144e68b10550",
   "metadata": {},
   "outputs": [],
   "source": [
    "gray_img = cv2.cvtColor(img, cv2.COLOR_BGR2GRAY)\n",
    "img_2 = cv2.cvtColor(img, cv2.COLOR_BGR2RGB)\n",
    "cv2.imshow('Window', img)\n",
    "cv2.imshow('gray_img', gray_img) \n",
    "cv2.imshow('img_2', img_2)\n",
    "# Cho mot khoan thoi gian\n",
    "cv2.waitKey(0)\n",
    "# Dong window\n",
    "cv2.destroyAllWindows()"
   ]
  },
  {
   "cell_type": "code",
   "execution_count": 17,
   "id": "33eb62bf-2cb1-46cc-9346-721b3a78e571",
   "metadata": {},
   "outputs": [],
   "source": [
    "# Thay doi thong so cua diem anh\n",
    "height, width, z = img.shape\n",
    "quater_h = height/2\n",
    "quater_w = width/2\n",
    "\n",
    "# geen color\n",
    "green_color = (0,255,0)\n",
    "\n",
    "# copy anh\n",
    "img2 = img.copy()\n",
    "\n",
    "# THay doi mau cua goc 1/4 ben trai tren\n",
    "\n",
    "for y in range(int(quater_h)):\n",
    "    for x in range(int(quater_w)):\n",
    "        img2[y, x] = green_color\n",
    "# Hien thi\n",
    "display('Window', img)\n",
    "display('Window-2', img2)"
   ]
  },
  {
   "cell_type": "code",
   "execution_count": null,
   "id": "c8795c23-b3fc-4844-9232-4de7243c146b",
   "metadata": {},
   "outputs": [],
   "source": []
  }
 ],
 "metadata": {
  "kernelspec": {
   "display_name": "Python 3 (ipykernel)",
   "language": "python",
   "name": "python3"
  },
  "language_info": {
   "codemirror_mode": {
    "name": "ipython",
    "version": 3
   },
   "file_extension": ".py",
   "mimetype": "text/x-python",
   "name": "python",
   "nbconvert_exporter": "python",
   "pygments_lexer": "ipython3",
   "version": "3.12.4"
  }
 },
 "nbformat": 4,
 "nbformat_minor": 5
}
