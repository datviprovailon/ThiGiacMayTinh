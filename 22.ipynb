{
 "cells": [
  {
   "cell_type": "code",
   "execution_count": 1,
   "id": "e6e747ef-9451-49c7-b0b2-fbd207d33033",
   "metadata": {},
   "outputs": [],
   "source": [
    "import cv2\n",
    "import time"
   ]
  },
  {
   "cell_type": "code",
   "execution_count": 42,
   "id": "d138876a-dd10-426d-b2f2-cdf1862d34be",
   "metadata": {},
   "outputs": [],
   "source": [
    "# Doc video\n",
    "video_path = 'D:/MonHoc/ThiGiacMayTinh/File/Video/v01.mp4'\n",
    "my_video = cv2.VideoCapture(video_path)"
   ]
  },
  {
   "cell_type": "code",
   "execution_count": 44,
   "id": "3f42c118-b395-4295-a1d3-f1dc9f587a99",
   "metadata": {},
   "outputs": [],
   "source": [
    "# Ghi text tren hinh anh\n",
    "font = cv2.FONT_HERSHEY_SIMPLEX\n",
    "font_color = (255, 255, 255)\n",
    "font_scale = 2\n",
    "font_thicknes = 2"
   ]
  },
  {
   "cell_type": "code",
   "execution_count": 46,
   "id": "90354e11-96f7-4494-a8a9-9b7be42d2123",
   "metadata": {},
   "outputs": [],
   "source": [
    "# Hien thi tung khung hinh\n",
    "while True:\n",
    "    # Thoi gian truoc khi doc\n",
    "    start_time = time.time()\n",
    "    # Doc 1 frame\n",
    "    ret, frame = my_video.read()\n",
    "    # Thoat khi khong the doc frame\n",
    "    if not ret:\n",
    "        break\n",
    "    # Thoi gian truoc khi doc\n",
    "    end_time = time.time()    \n",
    "    # Tinh FPS:\n",
    "    fps = 1/(end_time-start_time)\n",
    "    # Thay doi kich thuoc frame\n",
    "    frame_resized = cv2.resize(frame, (900, 600))\n",
    "    # Ghi so luong fps\n",
    "    cv2.putText(frame_resized, f'FPS: {fps:.2f}', (100, 100), font, font_scale, font_color , font_thicknes)\n",
    "    # Hien thi\n",
    "    cv2.imshow('Video Player', frame_resized)\n",
    "    if(cv2.waitKey(10)==ord('q')):\n",
    "        break\n",
    "\n",
    "# Huy bo player\n",
    "my_video.release()\n",
    "cv2.destroyAllWindows()"
   ]
  },
  {
   "cell_type": "code",
   "execution_count": null,
   "id": "cd3ce808-a4bb-4fd2-b686-aef0d8c4c450",
   "metadata": {},
   "outputs": [],
   "source": []
  }
 ],
 "metadata": {
  "kernelspec": {
   "display_name": "Python 3 (ipykernel)",
   "language": "python",
   "name": "python3"
  },
  "language_info": {
   "codemirror_mode": {
    "name": "ipython",
    "version": 3
   },
   "file_extension": ".py",
   "mimetype": "text/x-python",
   "name": "python",
   "nbconvert_exporter": "python",
   "pygments_lexer": "ipython3",
   "version": "3.12.4"
  }
 },
 "nbformat": 4,
 "nbformat_minor": 5
}
