{
 "cells": [
  {
   "cell_type": "code",
   "execution_count": 1,
   "id": "ff45893b-d744-48da-a928-595d83f9121a",
   "metadata": {},
   "outputs": [],
   "source": [
    "import cv2"
   ]
  },
  {
   "cell_type": "code",
   "execution_count": 46,
   "id": "fa1da584-a84f-4fba-9dd5-d882ce552aa0",
   "metadata": {},
   "outputs": [],
   "source": [
    "# Doc video\n",
    "video_path = 'D:/MonHoc/ThiGiacMayTinh/File/Video/v01.mp4'\n",
    "my_video = cv2.VideoCapture(video_path)"
   ]
  },
  {
   "cell_type": "code",
   "execution_count": 48,
   "id": "e9f2e87f-f3b4-4fa8-ae26-9e70a0581c17",
   "metadata": {},
   "outputs": [],
   "source": [
    "# Tao cua so de hien thi\n",
    "cv2.namedWindow('Video Player', cv2.WINDOW_NORMAL)"
   ]
  },
  {
   "cell_type": "code",
   "execution_count": 50,
   "id": "07f16e6e-4ede-4d5b-88bf-5e9624ee1a14",
   "metadata": {},
   "outputs": [],
   "source": [
    "# Hien thi tung khung hinh\n",
    "while True:\n",
    "    # Doc 1 frame\n",
    "    ret, frame = my_video.read()\n",
    "    \n",
    "    # Thoat khi khong doc duoc frame\n",
    "    if not ret:\n",
    "        break\n",
    "    # Thay doi kich thuoc frame\n",
    "    \n",
    "    frame_resized = cv2.resize(frame, (800, 600))\n",
    "    \n",
    "    # Hien thi\n",
    "    cv2.imshow('Video Player', frame_resized)\n",
    "    \n",
    "    if(cv2.waitKey(10)==ord('q')):\n",
    "        break"
   ]
  },
  {
   "cell_type": "code",
   "execution_count": 52,
   "id": "c925b8ec-6ef7-40cc-a6d2-25e1005db6cd",
   "metadata": {},
   "outputs": [],
   "source": [
    "# Huy bo player\n",
    "my_video.release\n",
    "cv2.destroyAllWindows()"
   ]
  },
  {
   "cell_type": "code",
   "execution_count": null,
   "id": "b12dd622-112e-42a2-81df-83ba928a30c5",
   "metadata": {},
   "outputs": [],
   "source": []
  }
 ],
 "metadata": {
  "kernelspec": {
   "display_name": "Python 3 (ipykernel)",
   "language": "python",
   "name": "python3"
  },
  "language_info": {
   "codemirror_mode": {
    "name": "ipython",
    "version": 3
   },
   "file_extension": ".py",
   "mimetype": "text/x-python",
   "name": "python",
   "nbconvert_exporter": "python",
   "pygments_lexer": "ipython3",
   "version": "3.12.4"
  }
 },
 "nbformat": 4,
 "nbformat_minor": 5
}
