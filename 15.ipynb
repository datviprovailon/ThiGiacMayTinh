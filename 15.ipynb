{
 "cells": [
  {
   "cell_type": "code",
   "execution_count": 3,
   "id": "838f38d8-aff8-4a08-91ff-d580fafa7995",
   "metadata": {},
   "outputs": [],
   "source": [
    "#!pip install scipy"
   ]
  },
  {
   "cell_type": "code",
   "execution_count": 5,
   "id": "50368a50-2b5e-412d-8eeb-edb25de33c03",
   "metadata": {},
   "outputs": [],
   "source": [
    "from scipy import linalg\n",
    "import numpy as np"
   ]
  },
  {
   "cell_type": "code",
   "execution_count": 9,
   "id": "9358e5ec-da78-46c9-a38d-1201239751c6",
   "metadata": {},
   "outputs": [
    {
     "name": "stdout",
     "output_type": "stream",
     "text": [
      "Kết quả:  [ 6.5 -4. ]\n"
     ]
    }
   ],
   "source": [
    "# Định nghĩa hệ phương trình tuyến tính\n",
    "A = np.array([[4, 5], [2, 3]])\n",
    "b = np.array([6, 1])\n",
    "# Giải hệ phương trình tuyến tính\n",
    "x = linalg.solve(A, b)\n",
    "print('Kết quả: ', x)"
   ]
  },
  {
   "cell_type": "code",
   "execution_count": 11,
   "id": "49752bca-3597-4660-b6cc-062f2203d10e",
   "metadata": {},
   "outputs": [],
   "source": [
    "# Tích phân của một hàm số\n",
    "from scipy import integrate"
   ]
  },
  {
   "cell_type": "code",
   "execution_count": 25,
   "id": "2339d3db-2f86-409f-bbc4-d61912ca9200",
   "metadata": {},
   "outputs": [
    {
     "name": "stdout",
     "output_type": "stream",
     "text": [
      "Tích phân f(x) từ 0 - 1:  (21.000000000000004, 2.331468351712829e-13)\n"
     ]
    }
   ],
   "source": [
    "# Định nghĩa f(x) = x^2\n",
    "def my_function(x):\n",
    "    return x*x\n",
    "# Tính tích phân của f(x) từ 0 - 1\n",
    "integral = integrate.quad(my_function, 1, 4)\n",
    "print('Tích phân f(x) từ 0 - 1: ', integral)"
   ]
  },
  {
   "cell_type": "code",
   "execution_count": 27,
   "id": "059ec539-616d-43ba-a6a0-4202918f74f1",
   "metadata": {},
   "outputs": [
    {
     "name": "stdout",
     "output_type": "stream",
     "text": [
      "Giá trị riêng:  [0.+0.j 6.+0.j]\n",
      "Vector riêng:  [[-0.70710678 -0.4472136 ]\n",
      " [ 0.70710678 -0.89442719]]\n"
     ]
    }
   ],
   "source": [
    "# Tính giá trị riêng và vector riêng của một ma trận:\n",
    "A = np.array([[2,2], [4,4]])\n",
    "\n",
    "# Tính giá trị riêng và vector riêng của ma trận\n",
    "evals, evecs = linalg.eig(A)\n",
    "\n",
    "print(\"Giá trị riêng: \", evals)\n",
    "print(\"Vector riêng: \", evecs)"
   ]
  },
  {
   "cell_type": "code",
   "execution_count": null,
   "id": "3a2696d2-37dd-40cc-9137-229ab0d5eb40",
   "metadata": {},
   "outputs": [],
   "source": []
  }
 ],
 "metadata": {
  "kernelspec": {
   "display_name": "Python 3 (ipykernel)",
   "language": "python",
   "name": "python3"
  },
  "language_info": {
   "codemirror_mode": {
    "name": "ipython",
    "version": 3
   },
   "file_extension": ".py",
   "mimetype": "text/x-python",
   "name": "python",
   "nbconvert_exporter": "python",
   "pygments_lexer": "ipython3",
   "version": "3.12.4"
  }
 },
 "nbformat": 4,
 "nbformat_minor": 5
}
